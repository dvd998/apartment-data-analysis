{
 "cells": [
  {
   "cell_type": "code",
   "execution_count": 7,
   "metadata": {},
   "outputs": [],
   "source": [
    "import pandas as pd\n",
    "from sklearn.neighbors import KNeighborsClassifier\n",
    "from sklearn.preprocessing import StandardScaler\n",
    "from sklearn.model_selection import train_test_split\n",
    "from sklearn.ensemble import RandomForestClassifier\n",
    "from sklearn.svm import SVC\n",
    "import operator\n",
    "\n",
    "# Data extraction and preparing train and test data sets\n",
    "df = pd.read_excel('Excel_files\\\\Processed data 26.11.2023..xlsx')\n",
    "df['room_groups'] = df['room_number'].apply(lambda x: '<2.5' if x < 2.5 else ('<4.5' if x < 4.5 else '4.5+'))\n",
    "values = df[['price', 'sq_meters']].values.tolist()\n",
    "labels = list(df['room_groups'])\n",
    "train_values, test_values, train_labels, test_labels = train_test_split(values, labels, test_size=0.25)\n",
    "scaler = StandardScaler()\n",
    "train_values_scaled = scaler.fit_transform(train_values)\n",
    "test_values_scaled = scaler.fit_transform(test_values)"
   ]
  },
  {
   "cell_type": "code",
   "execution_count": 8,
   "metadata": {},
   "outputs": [
    {
     "name": "stdout",
     "output_type": "stream",
     "text": [
      "(60, 0.9339622641509434)\n"
     ]
    }
   ],
   "source": [
    "# Room number prediction using k-nearest neighbors algorithm\n",
    "knear_accuracies = []\n",
    "knear_index = []\n",
    "for i in range(25, 150):\n",
    "    knear_classifier = KNeighborsClassifier(n_neighbors= i)\n",
    "    knear_classifier.fit(train_values_scaled, train_labels)\n",
    "\n",
    "    accuracy = knear_classifier.score(test_values_scaled, test_labels)\n",
    "    knear_accuracies.append(accuracy)\n",
    "    knear_index.append(i)\n",
    "\n",
    "knear_result = dict(zip(knear_index, knear_accuracies))\n",
    "print(max(knear_result.items(), key=operator.itemgetter(1)))"
   ]
  },
  {
   "cell_type": "code",
   "execution_count": 9,
   "metadata": {},
   "outputs": [
    {
     "name": "stdout",
     "output_type": "stream",
     "text": [
      "(100, 0.8867924528301887)\n"
     ]
    }
   ],
   "source": [
    "# Room number prediction using random forest algorithm\n",
    "accuracies_rforest = []\n",
    "rforest_index = list(range(100, 1500, 100))\n",
    "for i in range(100, 1500, 100):\n",
    "    rforest_classifier = RandomForestClassifier(n_estimators=1500)\n",
    "    rforest_classifier.fit(train_values_scaled, train_labels)\n",
    "\n",
    "    acc = rforest_classifier.score(test_values_scaled, test_labels)\n",
    "    accuracies_rforest.append(acc)\n",
    "\n",
    "rforest_result = dict(zip(rforest_index, accuracies_rforest))\n",
    "print(max(rforest_result.items(), key=operator.itemgetter(1)))"
   ]
  },
  {
   "cell_type": "code",
   "execution_count": 10,
   "metadata": {},
   "outputs": [
    {
     "name": "stdout",
     "output_type": "stream",
     "text": [
      "0.8207547169811321\n"
     ]
    }
   ],
   "source": [
    "# Room number prediction using SVM algorithm\n",
    "svm_classifier = SVC(gamma=0.01, kernel='rbf', C = 0.5)\n",
    "svm_classifier.fit(train_values, train_labels)\n",
    "print(svm_classifier.score(test_values, test_labels))"
   ]
  }
 ],
 "metadata": {
  "kernelspec": {
   "display_name": "Python 3",
   "language": "python",
   "name": "python3"
  },
  "language_info": {
   "codemirror_mode": {
    "name": "ipython",
    "version": 3
   },
   "file_extension": ".py",
   "mimetype": "text/x-python",
   "name": "python",
   "nbconvert_exporter": "python",
   "pygments_lexer": "ipython3",
   "version": "3.9.3"
  }
 },
 "nbformat": 4,
 "nbformat_minor": 2
}
