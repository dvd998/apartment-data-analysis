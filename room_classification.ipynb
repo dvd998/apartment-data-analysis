{
 "cells": [
  {
   "cell_type": "code",
   "execution_count": 1,
   "metadata": {},
   "outputs": [],
   "source": [
    "import pandas as pd\n",
    "from sklearn.neighbors import KNeighborsClassifier\n",
    "from sklearn.preprocessing import StandardScaler\n",
    "from sklearn.model_selection import train_test_split, GridSearchCV\n",
    "from sklearn.ensemble import RandomForestClassifier\n",
    "from sklearn.svm import SVC\n",
    "\n",
    "\n",
    "# Data extraction and preparing train and test data sets\n",
    "df = pd.read_excel('Excel_files\\\\Processed data combined.xlsx')\n",
    "df['room_groups'] = df['room_number'].apply(lambda x: '<2.5' if x < 2.5 else ('<4.5' if x < 4.5 else '4.5+'))\n",
    "values = df[['price', 'sq_meters']].values.tolist()\n",
    "labels = list(df['room_groups'])\n",
    "train_values, test_values, train_labels, test_labels = train_test_split(values, labels, test_size=0.25)\n",
    "scaler = StandardScaler()\n",
    "train_values_scaled = scaler.fit_transform(train_values)\n",
    "test_values_scaled = scaler.fit_transform(test_values)"
   ]
  },
  {
   "cell_type": "code",
   "execution_count": 2,
   "metadata": {},
   "outputs": [
    {
     "name": "stdout",
     "output_type": "stream",
     "text": [
      "Best Parameters: {'n_neighbors': 26}\n",
      "Best Accuracy: 0.8646464646464647\n"
     ]
    }
   ],
   "source": [
    "# Room number prediction using k-nearest neighbors algorithm\n",
    "# Define the parameter grid\n",
    "param_grid_knear = {'n_neighbors': range(25, 150)}\n",
    "\n",
    "# Initialize KNeighborsClassifier\n",
    "knear_classifier = KNeighborsClassifier()\n",
    "\n",
    "# Perform Grid Search Cross Validation\n",
    "grid_search_knear = GridSearchCV(knear_classifier, param_grid_knear, cv=5, scoring='accuracy')\n",
    "grid_search_knear.fit(train_values_scaled, train_labels)\n",
    "\n",
    "# Get the best parameters and its accuracy\n",
    "best_params = grid_search_knear.best_params_\n",
    "best_accuracy = grid_search_knear.best_score_\n",
    "\n",
    "print(\"Best Parameters:\", best_params)\n",
    "print(\"Best Accuracy:\", best_accuracy)"
   ]
  },
  {
   "cell_type": "code",
   "execution_count": 3,
   "metadata": {},
   "outputs": [
    {
     "name": "stdout",
     "output_type": "stream",
     "text": [
      "Best Parameters: {'n_estimators': 300}\n",
      "Best Accuracy: 0.8363636363636363\n"
     ]
    }
   ],
   "source": [
    "# Room number prediction using random forest algorithm\n",
    "# Define the parameter grid\n",
    "param_grid_rforest = {'n_estimators': range(100, 1500, 100)}\n",
    "\n",
    "# Initialize RandomForestClassifier\n",
    "rforest_classifier = RandomForestClassifier()\n",
    "\n",
    "# Perform Grid Search Cross Validation\n",
    "grid_search_rforest = GridSearchCV(rforest_classifier, param_grid_rforest, cv=5, scoring='accuracy')\n",
    "grid_search_rforest.fit(train_values_scaled, train_labels)\n",
    "\n",
    "# Get the best parameters and its accuracy\n",
    "best_params_rforest = grid_search_rforest.best_params_\n",
    "best_accuracy_rforest = grid_search_rforest.best_score_\n",
    "\n",
    "print(\"Best Parameters:\", best_params_rforest)\n",
    "print(\"Best Accuracy:\", best_accuracy_rforest)"
   ]
  },
  {
   "cell_type": "code",
   "execution_count": 4,
   "metadata": {},
   "outputs": [
    {
     "name": "stdout",
     "output_type": "stream",
     "text": [
      "Best Parameters: {'C': 0.1, 'gamma': 1, 'kernel': 'rbf'}\n",
      "Best Accuracy: 0.8666666666666666\n"
     ]
    }
   ],
   "source": [
    "# Room number prediction using SVM algorithm\n",
    "# Define the parameter grid\n",
    "param_grid_svm = {'C': [0.1, 1, 10, 100],\n",
    "              'gamma': [1, 0.1, 0.01, 0.001],\n",
    "              'kernel': ['rbf', 'linear', 'poly', 'sigmoid']}\n",
    "\n",
    "# Initialize SVC\n",
    "svm_classifier = SVC()\n",
    "\n",
    "# Perform Grid Search Cross Validation\n",
    "grid_search_svm = GridSearchCV(svm_classifier, param_grid_svm, cv=5, scoring='accuracy')\n",
    "grid_search_svm.fit(train_values_scaled, train_labels)\n",
    "\n",
    "# Get the best parameters and its accuracy\n",
    "best_params_svm = grid_search_svm.best_params_\n",
    "best_accuracy_svm = grid_search_svm.best_score_\n",
    "\n",
    "print(\"Best Parameters:\", best_params_svm)\n",
    "print(\"Best Accuracy:\", best_accuracy_svm)"
   ]
  }
 ],
 "metadata": {
  "kernelspec": {
   "display_name": "Python 3",
   "language": "python",
   "name": "python3"
  },
  "language_info": {
   "codemirror_mode": {
    "name": "ipython",
    "version": 3
   },
   "file_extension": ".py",
   "mimetype": "text/x-python",
   "name": "python",
   "nbconvert_exporter": "python",
   "pygments_lexer": "ipython3",
   "version": "3.9.3"
  }
 },
 "nbformat": 4,
 "nbformat_minor": 2
}
